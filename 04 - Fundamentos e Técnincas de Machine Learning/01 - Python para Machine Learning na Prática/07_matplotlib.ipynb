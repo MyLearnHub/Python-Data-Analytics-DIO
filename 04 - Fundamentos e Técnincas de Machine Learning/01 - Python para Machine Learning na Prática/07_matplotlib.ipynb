{
  "nbformat": 4,
  "nbformat_minor": 0,
  "metadata": {
    "colab": {
      "provenance": []
    },
    "kernelspec": {
      "name": "python3",
      "display_name": "Python 3"
    },
    "language_info": {
      "name": "python"
    }
  },
  "cells": [
    {
      "cell_type": "code",
      "execution_count": 1,
      "metadata": {
        "id": "kOhz7qZ2wdRD"
      },
      "outputs": [],
      "source": [
        "import matplotlib"
      ]
    },
    {
      "cell_type": "code",
      "source": [
        "from sklearn.datasets import make_regression\n",
        "x, y = make_regression(n_samples=200, n_features=1, noise=30)\n",
        "import matplotlib.pyplot as plt"
      ],
      "metadata": {
        "id": "axH_Yiftw5Qn"
      },
      "execution_count": 2,
      "outputs": []
    },
    {
      "cell_type": "code",
      "source": [
        "plt.scatter(x,y)\n",
        "plt.show()"
      ],
      "metadata": {
        "id": "z3m-vi3Fxa1G"
      },
      "execution_count": null,
      "outputs": []
    }
  ]
}